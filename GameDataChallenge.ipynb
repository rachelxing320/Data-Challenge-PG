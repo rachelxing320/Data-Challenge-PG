{
 "cells": [
  {
   "cell_type": "code",
   "execution_count": 1,
   "metadata": {},
   "outputs": [],
   "source": [
    "#Rachel Xing\n",
    "#Data Assignment for Pocket Gem\n",
    "import pandas as pd"
   ]
  },
  {
   "cell_type": "code",
   "execution_count": 184,
   "metadata": {},
   "outputs": [],
   "source": [
    "df_purchase = pd.read_csv(\"PM_InAppPurchase.csv\")\n",
    "df_user = pd.read_csv(\"PM_User_Sessions.csv\")"
   ]
  },
  {
   "cell_type": "code",
   "execution_count": 3,
   "metadata": {},
   "outputs": [
    {
     "data": {
      "text/plain": [
       "(4621, 160067)"
      ]
     },
     "execution_count": 3,
     "metadata": {},
     "output_type": "execute_result"
    }
   ],
   "source": [
    "len(df_purchase), len(df_user)"
   ]
  },
  {
   "cell_type": "code",
   "execution_count": 4,
   "metadata": {},
   "outputs": [
    {
     "data": {
      "text/plain": [
       "date                    0\n",
       "User ID Hash            0\n",
       "Purchases on Date       0\n",
       "Unnamed: 3           4621\n",
       "Unnamed: 4           4621\n",
       "dtype: int64"
      ]
     },
     "execution_count": 4,
     "metadata": {},
     "output_type": "execute_result"
    }
   ],
   "source": [
    "df_purchase.isnull().sum()"
   ]
  },
  {
   "cell_type": "code",
   "execution_count": 185,
   "metadata": {},
   "outputs": [],
   "source": [
    "df_purchase = df_purchase[[\"date\", \"User ID Hash\", \"Purchases on Date\"]]"
   ]
  },
  {
   "cell_type": "code",
   "execution_count": 6,
   "metadata": {},
   "outputs": [
    {
     "data": {
      "text/plain": [
       "User ID Hash    0\n",
       "Session date    0\n",
       "Install_date    0\n",
       "Device_type     0\n",
       "Country         1\n",
       "dtype: int64"
      ]
     },
     "execution_count": 6,
     "metadata": {},
     "output_type": "execute_result"
    }
   ],
   "source": [
    "df_user.isnull().sum()"
   ]
  },
  {
   "cell_type": "markdown",
   "metadata": {},
   "source": [
    "# User History Analysis "
   ]
  },
  {
   "cell_type": "code",
   "execution_count": 7,
   "metadata": {},
   "outputs": [
    {
     "data": {
      "text/html": [
       "<div>\n",
       "<style scoped>\n",
       "    .dataframe tbody tr th:only-of-type {\n",
       "        vertical-align: middle;\n",
       "    }\n",
       "\n",
       "    .dataframe tbody tr th {\n",
       "        vertical-align: top;\n",
       "    }\n",
       "\n",
       "    .dataframe thead th {\n",
       "        text-align: right;\n",
       "    }\n",
       "</style>\n",
       "<table border=\"1\" class=\"dataframe\">\n",
       "  <thead>\n",
       "    <tr style=\"text-align: right;\">\n",
       "      <th></th>\n",
       "      <th>User ID Hash</th>\n",
       "      <th>Session date</th>\n",
       "      <th>Install_date</th>\n",
       "      <th>Device_type</th>\n",
       "      <th>Country</th>\n",
       "    </tr>\n",
       "  </thead>\n",
       "  <tbody>\n",
       "    <tr>\n",
       "      <td>62237</td>\n",
       "      <td>9094284348a24fb090dfb9b8052135aa</td>\n",
       "      <td>1-Mar-18</td>\n",
       "      <td>23-Dec-17</td>\n",
       "      <td>iPhone7Plus</td>\n",
       "      <td>TW</td>\n",
       "    </tr>\n",
       "    <tr>\n",
       "      <td>57396</td>\n",
       "      <td>773e7c009b4244b892274cbd396a3216</td>\n",
       "      <td>14-Jan-18</td>\n",
       "      <td>14-Jan-18</td>\n",
       "      <td>iPad6</td>\n",
       "      <td>US</td>\n",
       "    </tr>\n",
       "    <tr>\n",
       "      <td>8413</td>\n",
       "      <td>28d048445f574c66943b926b5802ff58</td>\n",
       "      <td>25-Feb-18</td>\n",
       "      <td>22-Feb-18</td>\n",
       "      <td>iPhone5S</td>\n",
       "      <td>PH</td>\n",
       "    </tr>\n",
       "    <tr>\n",
       "      <td>91507</td>\n",
       "      <td>818c0d84e3924f338add19f85183f50b</td>\n",
       "      <td>18-Feb-18</td>\n",
       "      <td>18-Feb-18</td>\n",
       "      <td>iPhone6Plus</td>\n",
       "      <td>US</td>\n",
       "    </tr>\n",
       "    <tr>\n",
       "      <td>98519</td>\n",
       "      <td>241f2b1636b34e07846ab949c6af1fea</td>\n",
       "      <td>19-Jan-18</td>\n",
       "      <td>30-Dec-17</td>\n",
       "      <td>iPhone10</td>\n",
       "      <td>US</td>\n",
       "    </tr>\n",
       "  </tbody>\n",
       "</table>\n",
       "</div>"
      ],
      "text/plain": [
       "                           User ID Hash Session date Install_date  \\\n",
       "62237  9094284348a24fb090dfb9b8052135aa     1-Mar-18    23-Dec-17   \n",
       "57396  773e7c009b4244b892274cbd396a3216    14-Jan-18    14-Jan-18   \n",
       "8413   28d048445f574c66943b926b5802ff58    25-Feb-18    22-Feb-18   \n",
       "91507  818c0d84e3924f338add19f85183f50b    18-Feb-18    18-Feb-18   \n",
       "98519  241f2b1636b34e07846ab949c6af1fea    19-Jan-18    30-Dec-17   \n",
       "\n",
       "       Device_type Country  \n",
       "62237  iPhone7Plus      TW  \n",
       "57396        iPad6      US  \n",
       "8413      iPhone5S      PH  \n",
       "91507  iPhone6Plus      US  \n",
       "98519     iPhone10      US  "
      ]
     },
     "execution_count": 7,
     "metadata": {},
     "output_type": "execute_result"
    }
   ],
   "source": [
    "df_user.sample(5)"
   ]
  },
  {
   "cell_type": "code",
   "execution_count": 8,
   "metadata": {},
   "outputs": [
    {
     "data": {
      "text/plain": [
       "User ID Hash    31101\n",
       "Session date      135\n",
       "Install_date      135\n",
       "Device_type        26\n",
       "Country           149\n",
       "dtype: int64"
      ]
     },
     "execution_count": 8,
     "metadata": {},
     "output_type": "execute_result"
    }
   ],
   "source": [
    "df_user.nunique()"
   ]
  },
  {
   "cell_type": "code",
   "execution_count": 9,
   "metadata": {},
   "outputs": [],
   "source": [
    "#convert session date and install date to timestamp\n",
    "df_user[\"Session date\"] = pd.to_datetime(df_user[\"Session date\"]\n",
    "                                         , infer_datetime_format=True)  \n",
    "\n",
    "df_user[\"Install_date\"] = pd.to_datetime(df_user[\"Install_date\"]\n",
    "                                         , infer_datetime_format=True)  "
   ]
  },
  {
   "cell_type": "code",
   "execution_count": 10,
   "metadata": {},
   "outputs": [
    {
     "data": {
      "text/html": [
       "<div>\n",
       "<style scoped>\n",
       "    .dataframe tbody tr th:only-of-type {\n",
       "        vertical-align: middle;\n",
       "    }\n",
       "\n",
       "    .dataframe tbody tr th {\n",
       "        vertical-align: top;\n",
       "    }\n",
       "\n",
       "    .dataframe thead th {\n",
       "        text-align: right;\n",
       "    }\n",
       "</style>\n",
       "<table border=\"1\" class=\"dataframe\">\n",
       "  <thead>\n",
       "    <tr style=\"text-align: right;\">\n",
       "      <th></th>\n",
       "      <th>User ID Hash</th>\n",
       "      <th>Session date</th>\n",
       "      <th>Install_date</th>\n",
       "      <th>Device_type</th>\n",
       "      <th>Country</th>\n",
       "    </tr>\n",
       "  </thead>\n",
       "  <tbody>\n",
       "    <tr>\n",
       "      <td>112854</td>\n",
       "      <td>0002396cd5fd48ac8ea256c6bdb0635f</td>\n",
       "      <td>2017-11-03</td>\n",
       "      <td>2017-11-03</td>\n",
       "      <td>iPhone7Plus</td>\n",
       "      <td>VN</td>\n",
       "    </tr>\n",
       "    <tr>\n",
       "      <td>116352</td>\n",
       "      <td>0002396cd5fd48ac8ea256c6bdb0635f</td>\n",
       "      <td>2017-11-05</td>\n",
       "      <td>2017-11-03</td>\n",
       "      <td>iPhone7Plus</td>\n",
       "      <td>VN</td>\n",
       "    </tr>\n",
       "    <tr>\n",
       "      <td>94009</td>\n",
       "      <td>0002396cd5fd48ac8ea256c6bdb0635f</td>\n",
       "      <td>2017-11-06</td>\n",
       "      <td>2017-11-03</td>\n",
       "      <td>iPhone7Plus</td>\n",
       "      <td>VN</td>\n",
       "    </tr>\n",
       "    <tr>\n",
       "      <td>129069</td>\n",
       "      <td>0002396cd5fd48ac8ea256c6bdb0635f</td>\n",
       "      <td>2017-11-07</td>\n",
       "      <td>2017-11-03</td>\n",
       "      <td>iPhone7Plus</td>\n",
       "      <td>VN</td>\n",
       "    </tr>\n",
       "    <tr>\n",
       "      <td>134884</td>\n",
       "      <td>0002396cd5fd48ac8ea256c6bdb0635f</td>\n",
       "      <td>2017-11-08</td>\n",
       "      <td>2017-11-03</td>\n",
       "      <td>iPhone7Plus</td>\n",
       "      <td>VN</td>\n",
       "    </tr>\n",
       "  </tbody>\n",
       "</table>\n",
       "</div>"
      ],
      "text/plain": [
       "                            User ID Hash Session date Install_date  \\\n",
       "112854  0002396cd5fd48ac8ea256c6bdb0635f   2017-11-03   2017-11-03   \n",
       "116352  0002396cd5fd48ac8ea256c6bdb0635f   2017-11-05   2017-11-03   \n",
       "94009   0002396cd5fd48ac8ea256c6bdb0635f   2017-11-06   2017-11-03   \n",
       "129069  0002396cd5fd48ac8ea256c6bdb0635f   2017-11-07   2017-11-03   \n",
       "134884  0002396cd5fd48ac8ea256c6bdb0635f   2017-11-08   2017-11-03   \n",
       "\n",
       "        Device_type Country  \n",
       "112854  iPhone7Plus      VN  \n",
       "116352  iPhone7Plus      VN  \n",
       "94009   iPhone7Plus      VN  \n",
       "129069  iPhone7Plus      VN  \n",
       "134884  iPhone7Plus      VN  "
      ]
     },
     "execution_count": 10,
     "metadata": {},
     "output_type": "execute_result"
    }
   ],
   "source": [
    "#sort data by user id and session date\n",
    "df_user = df_user.sort_values(by = [\"User ID Hash\", \"Session date\"])\n",
    "df_user.head(5)"
   ]
  },
  {
   "cell_type": "code",
   "execution_count": 14,
   "metadata": {},
   "outputs": [],
   "source": [
    "#create a new variable for first play date\n",
    "df_first_play = df_user.groupby(\"User ID Hash\")[\"Session date\"].min().reset_index()"
   ]
  },
  {
   "cell_type": "code",
   "execution_count": 15,
   "metadata": {},
   "outputs": [
    {
     "data": {
      "text/html": [
       "<div>\n",
       "<style scoped>\n",
       "    .dataframe tbody tr th:only-of-type {\n",
       "        vertical-align: middle;\n",
       "    }\n",
       "\n",
       "    .dataframe tbody tr th {\n",
       "        vertical-align: top;\n",
       "    }\n",
       "\n",
       "    .dataframe thead th {\n",
       "        text-align: right;\n",
       "    }\n",
       "</style>\n",
       "<table border=\"1\" class=\"dataframe\">\n",
       "  <thead>\n",
       "    <tr style=\"text-align: right;\">\n",
       "      <th></th>\n",
       "      <th>User ID Hash</th>\n",
       "      <th>Session date</th>\n",
       "    </tr>\n",
       "  </thead>\n",
       "  <tbody>\n",
       "    <tr>\n",
       "      <td>0</td>\n",
       "      <td>0002396cd5fd48ac8ea256c6bdb0635f</td>\n",
       "      <td>2017-11-03</td>\n",
       "    </tr>\n",
       "    <tr>\n",
       "      <td>1</td>\n",
       "      <td>000581ac53f34e6f92312e9a5d6d7459</td>\n",
       "      <td>2018-02-05</td>\n",
       "    </tr>\n",
       "    <tr>\n",
       "      <td>2</td>\n",
       "      <td>000c870591d84419b0462df24d99a3e2</td>\n",
       "      <td>2018-02-14</td>\n",
       "    </tr>\n",
       "    <tr>\n",
       "      <td>3</td>\n",
       "      <td>000d63ff90be45f28b4fd22cbbe00a96</td>\n",
       "      <td>2018-01-29</td>\n",
       "    </tr>\n",
       "    <tr>\n",
       "      <td>4</td>\n",
       "      <td>000e02c295824b30bee4d2385085e91c</td>\n",
       "      <td>2017-12-31</td>\n",
       "    </tr>\n",
       "  </tbody>\n",
       "</table>\n",
       "</div>"
      ],
      "text/plain": [
       "                       User ID Hash Session date\n",
       "0  0002396cd5fd48ac8ea256c6bdb0635f   2017-11-03\n",
       "1  000581ac53f34e6f92312e9a5d6d7459   2018-02-05\n",
       "2  000c870591d84419b0462df24d99a3e2   2018-02-14\n",
       "3  000d63ff90be45f28b4fd22cbbe00a96   2018-01-29\n",
       "4  000e02c295824b30bee4d2385085e91c   2017-12-31"
      ]
     },
     "execution_count": 15,
     "metadata": {},
     "output_type": "execute_result"
    }
   ],
   "source": [
    "df_first_play.head()"
   ]
  },
  {
   "cell_type": "code",
   "execution_count": 16,
   "metadata": {},
   "outputs": [],
   "source": [
    "df_first_play = df_first_play.rename(\n",
    "    columns={\"User ID Hash\": \"User ID Hash\", \"Session date\": \"First Session date\"})"
   ]
  },
  {
   "cell_type": "code",
   "execution_count": 17,
   "metadata": {},
   "outputs": [
    {
     "data": {
      "text/html": [
       "<div>\n",
       "<style scoped>\n",
       "    .dataframe tbody tr th:only-of-type {\n",
       "        vertical-align: middle;\n",
       "    }\n",
       "\n",
       "    .dataframe tbody tr th {\n",
       "        vertical-align: top;\n",
       "    }\n",
       "\n",
       "    .dataframe thead th {\n",
       "        text-align: right;\n",
       "    }\n",
       "</style>\n",
       "<table border=\"1\" class=\"dataframe\">\n",
       "  <thead>\n",
       "    <tr style=\"text-align: right;\">\n",
       "      <th></th>\n",
       "      <th>User ID Hash</th>\n",
       "      <th>First Session date</th>\n",
       "    </tr>\n",
       "  </thead>\n",
       "  <tbody>\n",
       "    <tr>\n",
       "      <td>0</td>\n",
       "      <td>0002396cd5fd48ac8ea256c6bdb0635f</td>\n",
       "      <td>2017-11-03</td>\n",
       "    </tr>\n",
       "    <tr>\n",
       "      <td>1</td>\n",
       "      <td>000581ac53f34e6f92312e9a5d6d7459</td>\n",
       "      <td>2018-02-05</td>\n",
       "    </tr>\n",
       "    <tr>\n",
       "      <td>2</td>\n",
       "      <td>000c870591d84419b0462df24d99a3e2</td>\n",
       "      <td>2018-02-14</td>\n",
       "    </tr>\n",
       "    <tr>\n",
       "      <td>3</td>\n",
       "      <td>000d63ff90be45f28b4fd22cbbe00a96</td>\n",
       "      <td>2018-01-29</td>\n",
       "    </tr>\n",
       "    <tr>\n",
       "      <td>4</td>\n",
       "      <td>000e02c295824b30bee4d2385085e91c</td>\n",
       "      <td>2017-12-31</td>\n",
       "    </tr>\n",
       "  </tbody>\n",
       "</table>\n",
       "</div>"
      ],
      "text/plain": [
       "                       User ID Hash First Session date\n",
       "0  0002396cd5fd48ac8ea256c6bdb0635f         2017-11-03\n",
       "1  000581ac53f34e6f92312e9a5d6d7459         2018-02-05\n",
       "2  000c870591d84419b0462df24d99a3e2         2018-02-14\n",
       "3  000d63ff90be45f28b4fd22cbbe00a96         2018-01-29\n",
       "4  000e02c295824b30bee4d2385085e91c         2017-12-31"
      ]
     },
     "execution_count": 17,
     "metadata": {},
     "output_type": "execute_result"
    }
   ],
   "source": [
    "df_first_play.head()"
   ]
  },
  {
   "cell_type": "code",
   "execution_count": 18,
   "metadata": {},
   "outputs": [],
   "source": [
    "df_user = df_user.merge(df_first_play, on = \"User ID Hash\", how = \"left\")"
   ]
  },
  {
   "cell_type": "code",
   "execution_count": 19,
   "metadata": {},
   "outputs": [
    {
     "data": {
      "text/plain": [
       "160067"
      ]
     },
     "execution_count": 19,
     "metadata": {},
     "output_type": "execute_result"
    }
   ],
   "source": [
    "#check lengthof data \n",
    "len(df_user)"
   ]
  },
  {
   "cell_type": "code",
   "execution_count": 23,
   "metadata": {},
   "outputs": [
    {
     "data": {
      "text/plain": [
       "User ID Hash          0\n",
       "Session date          0\n",
       "Install_date          0\n",
       "Device_type           0\n",
       "Country               1\n",
       "First Session date    0\n",
       "dtype: int64"
      ]
     },
     "execution_count": 23,
     "metadata": {},
     "output_type": "execute_result"
    }
   ],
   "source": [
    "#check missing values\n",
    "df_user.isnull().sum()"
   ]
  },
  {
   "cell_type": "code",
   "execution_count": 45,
   "metadata": {},
   "outputs": [],
   "source": [
    "#check period length between install data and first play data \n",
    "df_first_play = df_user[df_user[\"Session date\"] == df_user[\"First Session date\"]]"
   ]
  },
  {
   "cell_type": "code",
   "execution_count": 46,
   "metadata": {},
   "outputs": [
    {
     "data": {
      "text/html": [
       "<div>\n",
       "<style scoped>\n",
       "    .dataframe tbody tr th:only-of-type {\n",
       "        vertical-align: middle;\n",
       "    }\n",
       "\n",
       "    .dataframe tbody tr th {\n",
       "        vertical-align: top;\n",
       "    }\n",
       "\n",
       "    .dataframe thead th {\n",
       "        text-align: right;\n",
       "    }\n",
       "</style>\n",
       "<table border=\"1\" class=\"dataframe\">\n",
       "  <thead>\n",
       "    <tr style=\"text-align: right;\">\n",
       "      <th></th>\n",
       "      <th>User ID Hash</th>\n",
       "      <th>Session date</th>\n",
       "      <th>Install_date</th>\n",
       "      <th>Device_type</th>\n",
       "      <th>Country</th>\n",
       "      <th>First Session date</th>\n",
       "    </tr>\n",
       "  </thead>\n",
       "  <tbody>\n",
       "    <tr>\n",
       "      <td>0</td>\n",
       "      <td>0002396cd5fd48ac8ea256c6bdb0635f</td>\n",
       "      <td>2017-11-03</td>\n",
       "      <td>2017-11-03</td>\n",
       "      <td>iPhone7Plus</td>\n",
       "      <td>VN</td>\n",
       "      <td>2017-11-03</td>\n",
       "    </tr>\n",
       "    <tr>\n",
       "      <td>9</td>\n",
       "      <td>000581ac53f34e6f92312e9a5d6d7459</td>\n",
       "      <td>2018-02-05</td>\n",
       "      <td>2018-02-05</td>\n",
       "      <td>iPhone7</td>\n",
       "      <td>CA</td>\n",
       "      <td>2018-02-05</td>\n",
       "    </tr>\n",
       "    <tr>\n",
       "      <td>13</td>\n",
       "      <td>000c870591d84419b0462df24d99a3e2</td>\n",
       "      <td>2018-02-14</td>\n",
       "      <td>2018-02-14</td>\n",
       "      <td>iPhone6SPlus</td>\n",
       "      <td>VN</td>\n",
       "      <td>2018-02-14</td>\n",
       "    </tr>\n",
       "    <tr>\n",
       "      <td>34</td>\n",
       "      <td>000d63ff90be45f28b4fd22cbbe00a96</td>\n",
       "      <td>2018-01-29</td>\n",
       "      <td>2018-01-29</td>\n",
       "      <td>iPadMRetina</td>\n",
       "      <td>US</td>\n",
       "      <td>2018-01-29</td>\n",
       "    </tr>\n",
       "    <tr>\n",
       "      <td>40</td>\n",
       "      <td>000e02c295824b30bee4d2385085e91c</td>\n",
       "      <td>2017-12-31</td>\n",
       "      <td>2017-12-31</td>\n",
       "      <td>iPhone10</td>\n",
       "      <td>US</td>\n",
       "      <td>2017-12-31</td>\n",
       "    </tr>\n",
       "  </tbody>\n",
       "</table>\n",
       "</div>"
      ],
      "text/plain": [
       "                        User ID Hash Session date Install_date   Device_type  \\\n",
       "0   0002396cd5fd48ac8ea256c6bdb0635f   2017-11-03   2017-11-03   iPhone7Plus   \n",
       "9   000581ac53f34e6f92312e9a5d6d7459   2018-02-05   2018-02-05       iPhone7   \n",
       "13  000c870591d84419b0462df24d99a3e2   2018-02-14   2018-02-14  iPhone6SPlus   \n",
       "34  000d63ff90be45f28b4fd22cbbe00a96   2018-01-29   2018-01-29   iPadMRetina   \n",
       "40  000e02c295824b30bee4d2385085e91c   2017-12-31   2017-12-31      iPhone10   \n",
       "\n",
       "   Country First Session date  \n",
       "0       VN         2017-11-03  \n",
       "9       CA         2018-02-05  \n",
       "13      VN         2018-02-14  \n",
       "34      US         2018-01-29  \n",
       "40      US         2017-12-31  "
      ]
     },
     "execution_count": 46,
     "metadata": {},
     "output_type": "execute_result"
    }
   ],
   "source": [
    "df_first_play.head()"
   ]
  },
  {
   "cell_type": "code",
   "execution_count": 49,
   "metadata": {},
   "outputs": [
    {
     "name": "stderr",
     "output_type": "stream",
     "text": [
      "/Applications/anaconda3/lib/python3.7/site-packages/ipykernel_launcher.py:1: SettingWithCopyWarning: \n",
      "A value is trying to be set on a copy of a slice from a DataFrame.\n",
      "Try using .loc[row_indexer,col_indexer] = value instead\n",
      "\n",
      "See the caveats in the documentation: http://pandas.pydata.org/pandas-docs/stable/user_guide/indexing.html#returning-a-view-versus-a-copy\n",
      "  \"\"\"Entry point for launching an IPython kernel.\n"
     ]
    }
   ],
   "source": [
    "df_first_play[\"waiting_time\"] = (df_first_play[\"First Session date\"] - df_first_play[\"Install_date\"]).dt.days\n",
    "\n"
   ]
  },
  {
   "cell_type": "code",
   "execution_count": 50,
   "metadata": {},
   "outputs": [
    {
     "data": {
      "text/plain": [
       "array([ 0,  2,  1,  4, 29])"
      ]
     },
     "execution_count": 50,
     "metadata": {},
     "output_type": "execute_result"
    }
   ],
   "source": [
    "df_first_play[\"waiting_time\"].unique()"
   ]
  },
  {
   "cell_type": "code",
   "execution_count": 51,
   "metadata": {},
   "outputs": [
    {
     "data": {
      "text/html": [
       "<div>\n",
       "<style scoped>\n",
       "    .dataframe tbody tr th:only-of-type {\n",
       "        vertical-align: middle;\n",
       "    }\n",
       "\n",
       "    .dataframe tbody tr th {\n",
       "        vertical-align: top;\n",
       "    }\n",
       "\n",
       "    .dataframe thead th {\n",
       "        text-align: right;\n",
       "    }\n",
       "</style>\n",
       "<table border=\"1\" class=\"dataframe\">\n",
       "  <thead>\n",
       "    <tr style=\"text-align: right;\">\n",
       "      <th></th>\n",
       "      <th>User ID Hash</th>\n",
       "      <th>Session date</th>\n",
       "      <th>Install_date</th>\n",
       "      <th>Device_type</th>\n",
       "      <th>Country</th>\n",
       "      <th>First Session date</th>\n",
       "      <th>waiting_time</th>\n",
       "    </tr>\n",
       "  </thead>\n",
       "  <tbody>\n",
       "    <tr>\n",
       "      <td>4312</td>\n",
       "      <td>06328fb87ff0476da7be674446d37c48</td>\n",
       "      <td>2018-02-23</td>\n",
       "      <td>2018-02-21</td>\n",
       "      <td>iPhone10</td>\n",
       "      <td>FR</td>\n",
       "      <td>2018-02-23</td>\n",
       "      <td>2</td>\n",
       "    </tr>\n",
       "    <tr>\n",
       "      <td>9850</td>\n",
       "      <td>0e2ab8f2a58d4690867383a5da2592e5</td>\n",
       "      <td>2017-12-11</td>\n",
       "      <td>2017-12-09</td>\n",
       "      <td>iPhone7Plus</td>\n",
       "      <td>GB</td>\n",
       "      <td>2017-12-11</td>\n",
       "      <td>2</td>\n",
       "    </tr>\n",
       "    <tr>\n",
       "      <td>17378</td>\n",
       "      <td>1957a085269a42f79476ade0d2099d3f</td>\n",
       "      <td>2018-02-16</td>\n",
       "      <td>2018-02-14</td>\n",
       "      <td>iPad6</td>\n",
       "      <td>RS</td>\n",
       "      <td>2018-02-16</td>\n",
       "      <td>2</td>\n",
       "    </tr>\n",
       "    <tr>\n",
       "      <td>23707</td>\n",
       "      <td>2402d3c794134ee982f0f214c1388f4b</td>\n",
       "      <td>2018-01-25</td>\n",
       "      <td>2018-01-24</td>\n",
       "      <td>iPhone7</td>\n",
       "      <td>IT</td>\n",
       "      <td>2018-01-25</td>\n",
       "      <td>1</td>\n",
       "    </tr>\n",
       "    <tr>\n",
       "      <td>38919</td>\n",
       "      <td>3be2f484a14d4ef2aeefbef4692c6018</td>\n",
       "      <td>2017-11-11</td>\n",
       "      <td>2017-11-09</td>\n",
       "      <td>iPhone6Plus</td>\n",
       "      <td>US</td>\n",
       "      <td>2017-11-11</td>\n",
       "      <td>2</td>\n",
       "    </tr>\n",
       "    <tr>\n",
       "      <td>75191</td>\n",
       "      <td>76403e49aea94d9da6da4a45be184f0a</td>\n",
       "      <td>2017-12-03</td>\n",
       "      <td>2017-11-29</td>\n",
       "      <td>iPad6</td>\n",
       "      <td>CA</td>\n",
       "      <td>2017-12-03</td>\n",
       "      <td>4</td>\n",
       "    </tr>\n",
       "    <tr>\n",
       "      <td>119464</td>\n",
       "      <td>bdb9010cec6c457989f5b692255961ad</td>\n",
       "      <td>2017-12-31</td>\n",
       "      <td>2017-12-02</td>\n",
       "      <td>iPhone10</td>\n",
       "      <td>CA</td>\n",
       "      <td>2017-12-31</td>\n",
       "      <td>29</td>\n",
       "    </tr>\n",
       "  </tbody>\n",
       "</table>\n",
       "</div>"
      ],
      "text/plain": [
       "                            User ID Hash Session date Install_date  \\\n",
       "4312    06328fb87ff0476da7be674446d37c48   2018-02-23   2018-02-21   \n",
       "9850    0e2ab8f2a58d4690867383a5da2592e5   2017-12-11   2017-12-09   \n",
       "17378   1957a085269a42f79476ade0d2099d3f   2018-02-16   2018-02-14   \n",
       "23707   2402d3c794134ee982f0f214c1388f4b   2018-01-25   2018-01-24   \n",
       "38919   3be2f484a14d4ef2aeefbef4692c6018   2017-11-11   2017-11-09   \n",
       "75191   76403e49aea94d9da6da4a45be184f0a   2017-12-03   2017-11-29   \n",
       "119464  bdb9010cec6c457989f5b692255961ad   2017-12-31   2017-12-02   \n",
       "\n",
       "        Device_type Country First Session date  waiting_time  \n",
       "4312       iPhone10      FR         2018-02-23             2  \n",
       "9850    iPhone7Plus      GB         2017-12-11             2  \n",
       "17378         iPad6      RS         2018-02-16             2  \n",
       "23707       iPhone7      IT         2018-01-25             1  \n",
       "38919   iPhone6Plus      US         2017-11-11             2  \n",
       "75191         iPad6      CA         2017-12-03             4  \n",
       "119464     iPhone10      CA         2017-12-31            29  "
      ]
     },
     "execution_count": 51,
     "metadata": {},
     "output_type": "execute_result"
    }
   ],
   "source": [
    "#This showes that almost all users started to play the game as soon as they downloaded\n",
    "#this is a good sign.\n",
    "df_first_play[df_first_play[\"waiting_time\"]>0]"
   ]
  },
  {
   "cell_type": "code",
   "execution_count": 65,
   "metadata": {},
   "outputs": [],
   "source": [
    "#number of users only have tried this game once and then stopped playing \n",
    "df_one_time_users = df_user.groupby(\"User ID Hash\")[\"Session date\"].count().reset_index()\n",
    "df_one_time_users = df_one_time_users[df_one_time_users[\"Session date\"]<2]"
   ]
  },
  {
   "cell_type": "code",
   "execution_count": 73,
   "metadata": {},
   "outputs": [
    {
     "name": "stdout",
     "output_type": "stream",
     "text": [
      "The number of total users: 31101\n",
      "The number of one-time users: 16815\n",
      "There are 54.06578566605575 % of users stopped playing after the first try\n"
     ]
    }
   ],
   "source": [
    "print(\"The number of total users:\", len(df_user[\"User ID Hash\"].unique()))\n",
    "print(\"The number of one-time users:\", len(df_one_time_users))\n",
    "print(\"There are\", (len(df_one_time_users[\"User ID Hash\"].unique())/len(df_user[\"User ID Hash\"].unique()))*100, \"% of users stopped playing after the first try\")"
   ]
  },
  {
   "cell_type": "code",
   "execution_count": 132,
   "metadata": {
    "scrolled": true
   },
   "outputs": [
    {
     "data": {
      "text/plain": [
       "<matplotlib.axes._subplots.AxesSubplot at 0x1a345fbc50>"
      ]
     },
     "execution_count": 132,
     "metadata": {},
     "output_type": "execute_result"
    },
    {
     "data": {
      "image/png": "[encoded data removed]",
      "text/plain": [
       "<Figure size 1080x432 with 1 Axes>"
      ]
     },
     "metadata": {
      "needs_background": "light"
     },
     "output_type": "display_data"
    }
   ],
   "source": [
    "df_first_play.groupby(\"Install_date\")[\"User ID Hash\"].count().plot(figsize = (15,6), \n",
    "                                                                   title = \"Trend of New Users\")"
   ]
  },
  {
   "cell_type": "code",
   "execution_count": 131,
   "metadata": {
    "scrolled": true
   },
   "outputs": [
    {
     "data": {
      "text/plain": [
       "<matplotlib.axes._subplots.AxesSubplot at 0x1a2fb27990>"
      ]
     },
     "execution_count": 131,
     "metadata": {},
     "output_type": "execute_result"
    },
    {
     "data": {
      "image/png": "[encoded data removed]",
      "text/plain": [
       "<Figure size 1080x432 with 1 Axes>"
      ]
     },
     "metadata": {
      "needs_background": "light"
     },
     "output_type": "display_data"
    }
   ],
   "source": [
    "df_user.groupby(\"Session date\")[\"User ID Hash\"].count().plot(figsize = (15,6), \n",
    "                                                                   title = \"Trend of Active Users\")\n",
    "\n",
    "\n"
   ]
  },
  {
   "cell_type": "code",
   "execution_count": 105,
   "metadata": {},
   "outputs": [
    {
     "data": {
      "text/plain": [
       "<matplotlib.axes._subplots.AxesSubplot at 0x1a340d0c50>"
      ]
     },
     "execution_count": 105,
     "metadata": {},
     "output_type": "execute_result"
    },
    {
     "data": {
      "image/png": "[encoded data removed]",
      "text/plain": [
       "<Figure size 720x432 with 1 Axes>"
      ]
     },
     "metadata": {
      "needs_background": "light"
     },
     "output_type": "display_data"
    }
   ],
   "source": [
    "df_user.groupby(\"Country\")[\"User ID Hash\"].count().sort_values(\n",
    "    ascending = False)[:10].plot(kind = \"bar\", rot = 60, figsize = (10,6), \n",
    "                            title = \"Top 10 User Distribution by Country\")"
   ]
  },
  {
   "cell_type": "code",
   "execution_count": 106,
   "metadata": {},
   "outputs": [
    {
     "data": {
      "text/plain": [
       "<matplotlib.axes._subplots.AxesSubplot at 0x1a34420e10>"
      ]
     },
     "execution_count": 106,
     "metadata": {},
     "output_type": "execute_result"
    },
    {
     "data": {
      "image/png": "[encoded data removed]",
      "text/plain": [
       "<Figure size 720x432 with 1 Axes>"
      ]
     },
     "metadata": {
      "needs_background": "light"
     },
     "output_type": "display_data"
    }
   ],
   "source": [
    "df_user.groupby(\"Device_type\")[\"User ID Hash\"].count().sort_values(\n",
    "    ascending = False).plot(kind = \"bar\", rot = 60, figsize = (10,6),\n",
    "                           title = \"User Distribution by Device\")"
   ]
  },
  {
   "cell_type": "markdown",
   "metadata": {},
   "source": [
    "# Purchase History Analysis "
   ]
  },
  {
   "cell_type": "code",
   "execution_count": 186,
   "metadata": {},
   "outputs": [
    {
     "data": {
      "text/html": [
       "<div>\n",
       "<style scoped>\n",
       "    .dataframe tbody tr th:only-of-type {\n",
       "        vertical-align: middle;\n",
       "    }\n",
       "\n",
       "    .dataframe tbody tr th {\n",
       "        vertical-align: top;\n",
       "    }\n",
       "\n",
       "    .dataframe thead th {\n",
       "        text-align: right;\n",
       "    }\n",
       "</style>\n",
       "<table border=\"1\" class=\"dataframe\">\n",
       "  <thead>\n",
       "    <tr style=\"text-align: right;\">\n",
       "      <th></th>\n",
       "      <th>date</th>\n",
       "      <th>User ID Hash</th>\n",
       "      <th>Purchases on Date</th>\n",
       "    </tr>\n",
       "  </thead>\n",
       "  <tbody>\n",
       "    <tr>\n",
       "      <td>2645</td>\n",
       "      <td>21-Feb-18</td>\n",
       "      <td>dda7f173e18e4fe982b4ae5214f38457</td>\n",
       "      <td>$11.90</td>\n",
       "    </tr>\n",
       "    <tr>\n",
       "      <td>1495</td>\n",
       "      <td>26-Jan-18</td>\n",
       "      <td>b722afc2822b47ff989f78cc0eabe2df</td>\n",
       "      <td>$1.40</td>\n",
       "    </tr>\n",
       "    <tr>\n",
       "      <td>4571</td>\n",
       "      <td>10-Jan-18</td>\n",
       "      <td>589a815195c545e18d7b365a84b9c77e</td>\n",
       "      <td>$0.70</td>\n",
       "    </tr>\n",
       "    <tr>\n",
       "      <td>1737</td>\n",
       "      <td>28-Feb-18</td>\n",
       "      <td>d267a547ce1e4ee7820486270cc6a174</td>\n",
       "      <td>$1.40</td>\n",
       "    </tr>\n",
       "    <tr>\n",
       "      <td>2617</td>\n",
       "      <td>21-Feb-18</td>\n",
       "      <td>c572125617094fd1b03f54aa50695833</td>\n",
       "      <td>$3.50</td>\n",
       "    </tr>\n",
       "  </tbody>\n",
       "</table>\n",
       "</div>"
      ],
      "text/plain": [
       "           date                      User ID Hash Purchases on Date\n",
       "2645  21-Feb-18  dda7f173e18e4fe982b4ae5214f38457           $11.90 \n",
       "1495  26-Jan-18  b722afc2822b47ff989f78cc0eabe2df            $1.40 \n",
       "4571  10-Jan-18  589a815195c545e18d7b365a84b9c77e            $0.70 \n",
       "1737  28-Feb-18  d267a547ce1e4ee7820486270cc6a174            $1.40 \n",
       "2617  21-Feb-18  c572125617094fd1b03f54aa50695833            $3.50 "
      ]
     },
     "execution_count": 186,
     "metadata": {},
     "output_type": "execute_result"
    }
   ],
   "source": [
    "df_purchase.sample(5)"
   ]
  },
  {
   "cell_type": "code",
   "execution_count": 187,
   "metadata": {},
   "outputs": [],
   "source": [
    "df_purchase[\"date\"] = pd.to_datetime(df_purchase[\"date\"]\n",
    "                                         , infer_datetime_format=True)  "
   ]
  },
  {
   "cell_type": "code",
   "execution_count": 188,
   "metadata": {},
   "outputs": [],
   "source": [
    "df_purchase['Purchases on Date'] = df_purchase['Purchases on Date'].str.replace('$', '')\n",
    "df_purchase[\"dollar_value\"] = df_purchase[\"Purchases on Date\"].astype('float')"
   ]
  },
  {
   "cell_type": "code",
   "execution_count": 189,
   "metadata": {},
   "outputs": [],
   "source": [
    "#1.average purchase amount for Users with purchase history\n",
    "df_purchase_total = df_purchase.groupby(\"User ID Hash\")[\"dollar_value\"].sum().reset_index()"
   ]
  },
  {
   "cell_type": "code",
   "execution_count": 190,
   "metadata": {},
   "outputs": [
    {
     "name": "stdout",
     "output_type": "stream",
     "text": [
      "Average user purchases is $ 37.21514736120623\n"
     ]
    }
   ],
   "source": [
    "print(\"Average user purchases is\", \"$\", df_purchase_total.dollar_value.mean())"
   ]
  },
  {
   "cell_type": "code",
   "execution_count": 191,
   "metadata": {},
   "outputs": [
    {
     "name": "stdout",
     "output_type": "stream",
     "text": [
      "Total number of unique user id is: 31101\n",
      "Total number of user has purchase history is: 1459\n",
      "Percentage of User that has made puchases is: 0.04691167486575994\n"
     ]
    }
   ],
   "source": [
    "print(\"Total number of unique user id is:\",  \n",
    "      len(df_user[\"User ID Hash\"].unique()))\n",
    "print(\"Total number of user has purchase history is:\", \n",
    "      len(df_purchase[\"User ID Hash\"].unique()))\n",
    "print(\"Percentage of User that has made puchases is:\", \n",
    "      len(df_purchase[\"User ID Hash\"].unique())/len(df_user[\"User ID Hash\"].unique()))"
   ]
  },
  {
   "cell_type": "code",
   "execution_count": 192,
   "metadata": {},
   "outputs": [
    {
     "data": {
      "text/plain": [
       "<matplotlib.axes._subplots.AxesSubplot at 0x1a2e79d9d0>"
      ]
     },
     "execution_count": 192,
     "metadata": {},
     "output_type": "execute_result"
    },
    {
     "data": {
      "image/png": "[encoded data removed]",
      "text/plain": [
       "<Figure size 1080x432 with 1 Axes>"
      ]
     },
     "metadata": {
      "needs_background": "light"
     },
     "output_type": "display_data"
    }
   ],
   "source": [
    "df_purchase.groupby(\"date\")[\"dollar_value\"].sum().plot(\n",
    "    figsize = (15, 6), title = \"Purchases Amount Trend\")"
   ]
  },
  {
   "cell_type": "code",
   "execution_count": 195,
   "metadata": {},
   "outputs": [],
   "source": [
    "df_purchase_date = df_purchase.groupby(\"date\")[\"dollor_value\"].sum().sort_values().reset_index()\n",
    "                                               "
   ]
  },
  {
   "cell_type": "code",
   "execution_count": 196,
   "metadata": {},
   "outputs": [
    {
     "data": {
      "text/html": [
       "<div>\n",
       "<style scoped>\n",
       "    .dataframe tbody tr th:only-of-type {\n",
       "        vertical-align: middle;\n",
       "    }\n",
       "\n",
       "    .dataframe tbody tr th {\n",
       "        vertical-align: top;\n",
       "    }\n",
       "\n",
       "    .dataframe thead th {\n",
       "        text-align: right;\n",
       "    }\n",
       "</style>\n",
       "<table border=\"1\" class=\"dataframe\">\n",
       "  <thead>\n",
       "    <tr style=\"text-align: right;\">\n",
       "      <th></th>\n",
       "      <th>date</th>\n",
       "      <th>dollar_value</th>\n",
       "    </tr>\n",
       "  </thead>\n",
       "  <tbody>\n",
       "    <tr>\n",
       "      <td>0</td>\n",
       "      <td>2017-11-01</td>\n",
       "      <td>2.1</td>\n",
       "    </tr>\n",
       "    <tr>\n",
       "      <td>1</td>\n",
       "      <td>2017-11-04</td>\n",
       "      <td>16.8</td>\n",
       "    </tr>\n",
       "    <tr>\n",
       "      <td>2</td>\n",
       "      <td>2017-11-10</td>\n",
       "      <td>16.8</td>\n",
       "    </tr>\n",
       "    <tr>\n",
       "      <td>3</td>\n",
       "      <td>2017-11-08</td>\n",
       "      <td>24.5</td>\n",
       "    </tr>\n",
       "    <tr>\n",
       "      <td>4</td>\n",
       "      <td>2017-11-06</td>\n",
       "      <td>25.9</td>\n",
       "    </tr>\n",
       "  </tbody>\n",
       "</table>\n",
       "</div>"
      ],
      "text/plain": [
       "        date  dollar_value\n",
       "0 2017-11-01           2.1\n",
       "1 2017-11-04          16.8\n",
       "2 2017-11-10          16.8\n",
       "3 2017-11-08          24.5\n",
       "4 2017-11-06          25.9"
      ]
     },
     "execution_count": 196,
     "metadata": {},
     "output_type": "execute_result"
    }
   ],
   "source": [
    "df_purchase_date.head()"
   ]
  },
  {
   "cell_type": "code",
   "execution_count": 226,
   "metadata": {},
   "outputs": [],
   "source": [
    "df_purchase_date[\"dayofweek\"] = df_purchase_date[df_purchase_date[\"dollar_value\"]>300][\"date\"].dt.dayofweek"
   ]
  },
  {
   "cell_type": "code",
   "execution_count": 227,
   "metadata": {},
   "outputs": [
    {
     "data": {
      "text/html": [
       "<div>\n",
       "<style scoped>\n",
       "    .dataframe tbody tr th:only-of-type {\n",
       "        vertical-align: middle;\n",
       "    }\n",
       "\n",
       "    .dataframe tbody tr th {\n",
       "        vertical-align: top;\n",
       "    }\n",
       "\n",
       "    .dataframe thead th {\n",
       "        text-align: right;\n",
       "    }\n",
       "</style>\n",
       "<table border=\"1\" class=\"dataframe\">\n",
       "  <thead>\n",
       "    <tr style=\"text-align: right;\">\n",
       "      <th></th>\n",
       "      <th>date</th>\n",
       "      <th>dollar_value</th>\n",
       "    </tr>\n",
       "    <tr>\n",
       "      <th>dayofweek</th>\n",
       "      <th></th>\n",
       "      <th></th>\n",
       "    </tr>\n",
       "  </thead>\n",
       "  <tbody>\n",
       "    <tr>\n",
       "      <td>0.0</td>\n",
       "      <td>13</td>\n",
       "      <td>13</td>\n",
       "    </tr>\n",
       "    <tr>\n",
       "      <td>1.0</td>\n",
       "      <td>5</td>\n",
       "      <td>5</td>\n",
       "    </tr>\n",
       "    <tr>\n",
       "      <td>2.0</td>\n",
       "      <td>14</td>\n",
       "      <td>14</td>\n",
       "    </tr>\n",
       "    <tr>\n",
       "      <td>3.0</td>\n",
       "      <td>15</td>\n",
       "      <td>15</td>\n",
       "    </tr>\n",
       "    <tr>\n",
       "      <td>4.0</td>\n",
       "      <td>15</td>\n",
       "      <td>15</td>\n",
       "    </tr>\n",
       "    <tr>\n",
       "      <td>5.0</td>\n",
       "      <td>14</td>\n",
       "      <td>14</td>\n",
       "    </tr>\n",
       "    <tr>\n",
       "      <td>6.0</td>\n",
       "      <td>11</td>\n",
       "      <td>11</td>\n",
       "    </tr>\n",
       "  </tbody>\n",
       "</table>\n",
       "</div>"
      ],
      "text/plain": [
       "           date  dollar_value\n",
       "dayofweek                    \n",
       "0.0          13            13\n",
       "1.0           5             5\n",
       "2.0          14            14\n",
       "3.0          15            15\n",
       "4.0          15            15\n",
       "5.0          14            14\n",
       "6.0          11            11"
      ]
     },
     "execution_count": 227,
     "metadata": {},
     "output_type": "execute_result"
    }
   ],
   "source": [
    "df_purchase_date.groupby('dayofweek').count()"
   ]
  },
  {
   "cell_type": "code",
   "execution_count": 139,
   "metadata": {},
   "outputs": [],
   "source": [
    "df_first_purchase = df_purchase.groupby(\"User ID Hash\")[\"date\"].min().reset_index()"
   ]
  },
  {
   "cell_type": "code",
   "execution_count": 142,
   "metadata": {},
   "outputs": [],
   "source": [
    "df_first_purchase = df_first_purchase.rename(\n",
    "    columns={\"User ID Hash\": \"User ID Hash\", \"date\": \"First Purchase date\"})"
   ]
  },
  {
   "cell_type": "code",
   "execution_count": 143,
   "metadata": {},
   "outputs": [
    {
     "data": {
      "text/html": [
       "<div>\n",
       "<style scoped>\n",
       "    .dataframe tbody tr th:only-of-type {\n",
       "        vertical-align: middle;\n",
       "    }\n",
       "\n",
       "    .dataframe tbody tr th {\n",
       "        vertical-align: top;\n",
       "    }\n",
       "\n",
       "    .dataframe thead th {\n",
       "        text-align: right;\n",
       "    }\n",
       "</style>\n",
       "<table border=\"1\" class=\"dataframe\">\n",
       "  <thead>\n",
       "    <tr style=\"text-align: right;\">\n",
       "      <th></th>\n",
       "      <th>User ID Hash</th>\n",
       "      <th>First Purchase date</th>\n",
       "    </tr>\n",
       "  </thead>\n",
       "  <tbody>\n",
       "    <tr>\n",
       "      <td>0</td>\n",
       "      <td>008d5d28b11740ec8b26fd382211a47b</td>\n",
       "      <td>2018-01-02</td>\n",
       "    </tr>\n",
       "    <tr>\n",
       "      <td>1</td>\n",
       "      <td>0095fbe3339d4a60985e264abbfa7c62</td>\n",
       "      <td>2018-03-14</td>\n",
       "    </tr>\n",
       "    <tr>\n",
       "      <td>2</td>\n",
       "      <td>00c2231ea0204d369f20c262e52535ea</td>\n",
       "      <td>2018-02-25</td>\n",
       "    </tr>\n",
       "    <tr>\n",
       "      <td>3</td>\n",
       "      <td>012f31dbeb0441a9b88cb6987e21f45b</td>\n",
       "      <td>2017-11-12</td>\n",
       "    </tr>\n",
       "    <tr>\n",
       "      <td>4</td>\n",
       "      <td>015f03d7ab3b437eb630e1516c4fec95</td>\n",
       "      <td>2018-01-03</td>\n",
       "    </tr>\n",
       "  </tbody>\n",
       "</table>\n",
       "</div>"
      ],
      "text/plain": [
       "                       User ID Hash First Purchase date\n",
       "0  008d5d28b11740ec8b26fd382211a47b          2018-01-02\n",
       "1  0095fbe3339d4a60985e264abbfa7c62          2018-03-14\n",
       "2  00c2231ea0204d369f20c262e52535ea          2018-02-25\n",
       "3  012f31dbeb0441a9b88cb6987e21f45b          2017-11-12\n",
       "4  015f03d7ab3b437eb630e1516c4fec95          2018-01-03"
      ]
     },
     "execution_count": 143,
     "metadata": {},
     "output_type": "execute_result"
    }
   ],
   "source": [
    "df_first_purchase.head(5)"
   ]
  },
  {
   "cell_type": "markdown",
   "metadata": {},
   "source": [
    "# Merge two tables"
   ]
  },
  {
   "cell_type": "code",
   "execution_count": 144,
   "metadata": {},
   "outputs": [],
   "source": [
    "df_all = df_first_purchase.merge(df_first_play, on = \"User ID Hash\", how = \"outer\")"
   ]
  },
  {
   "cell_type": "code",
   "execution_count": 146,
   "metadata": {},
   "outputs": [
    {
     "data": {
      "text/plain": [
       "User ID Hash               0\n",
       "First Purchase date    29649\n",
       "Session date               0\n",
       "Install_date               0\n",
       "Device_type                0\n",
       "Country                    1\n",
       "First Session date         0\n",
       "waiting_time               0\n",
       "dtype: int64"
      ]
     },
     "execution_count": 146,
     "metadata": {},
     "output_type": "execute_result"
    }
   ],
   "source": [
    "df_all.isnull().sum()"
   ]
  },
  {
   "cell_type": "code",
   "execution_count": 150,
   "metadata": {},
   "outputs": [],
   "source": [
    "df_all[\"purchase_waiting_time\"] = (df_all[\"First Purchase date\"] - df_all[\"First Session date\"]).dt.days"
   ]
  },
  {
   "cell_type": "code",
   "execution_count": 154,
   "metadata": {},
   "outputs": [
    {
     "data": {
      "text/plain": [
       "6.015006821282401"
      ]
     },
     "execution_count": 154,
     "metadata": {},
     "output_type": "execute_result"
    }
   ],
   "source": [
    "df_all[\"purchase_waiting_time\"].mean()"
   ]
  },
  {
   "cell_type": "code",
   "execution_count": 155,
   "metadata": {},
   "outputs": [
    {
     "data": {
      "text/plain": [
       "<matplotlib.axes._subplots.AxesSubplot at 0x1a2d755150>"
      ]
     },
     "execution_count": 155,
     "metadata": {},
     "output_type": "execute_result"
    },
    {
     "data": {
      "image/png": "[encoded data removed]",
      "text/plain": [
       "<Figure size 432x288 with 1 Axes>"
      ]
     },
     "metadata": {
      "needs_background": "light"
     },
     "output_type": "display_data"
    }
   ],
   "source": [
    "df_all[\"purchase_waiting_time\"].hist()"
   ]
  },
  {
   "cell_type": "code",
   "execution_count": 156,
   "metadata": {},
   "outputs": [],
   "source": [
    "df_purchase_all = df_purchase.merge(df_user, on = \"User ID Hash\", how = \"left\")"
   ]
  },
  {
   "cell_type": "code",
   "execution_count": 170,
   "metadata": {},
   "outputs": [
    {
     "data": {
      "text/plain": [
       "<matplotlib.axes._subplots.AxesSubplot at 0x1a381fd090>"
      ]
     },
     "execution_count": 170,
     "metadata": {},
     "output_type": "execute_result"
    },
    {
     "data": {
      "image/png": "[encoded data removed]",
      "text/plain": [
       "<Figure size 1080x432 with 1 Axes>"
      ]
     },
     "metadata": {
      "needs_background": "light"
     },
     "output_type": "display_data"
    }
   ],
   "source": [
    "df_purchase_all[[\"Country\", \"dollar_value\"]].groupby(\"Country\").sum().sort_values(by= \"dollar_value\", \n",
    "                                                                                  ascending = False).round(3)[:10].plot(kind =\"bar\", figsize = (15,6), title = \"Total number of purchases received by Country\")"
   ]
  },
  {
   "cell_type": "code",
   "execution_count": null,
   "metadata": {},
   "outputs": [],
   "source": []
  }
 ],
 "metadata": {
  "kernelspec": {
   "display_name": "Python 3",
   "language": "python",
   "name": "python3"
  },
  "language_info": {
   "codemirror_mode": {
    "name": "ipython",
    "version": 3
   },
   "file_extension": ".py",
   "mimetype": "text/x-python",
   "name": "python",
   "nbconvert_exporter": "python",
   "pygments_lexer": "ipython3",
   "version": "3.7.4"
  }
 },
 "nbformat": 4,
 "nbformat_minor": 2
}
